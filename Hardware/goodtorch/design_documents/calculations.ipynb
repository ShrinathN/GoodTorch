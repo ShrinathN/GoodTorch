{
 "cells": [
  {
   "cell_type": "code",
   "execution_count": 1,
   "metadata": {},
   "outputs": [],
   "source": [
    "import pandas as pd\n",
    "import matplotlib.pyplot as plt\n",
    "from ipywidgets import *\n",
    "import numpy as np"
   ]
  },
  {
   "cell_type": "markdown",
   "metadata": {},
   "source": [
    "# Setting the parameters"
   ]
  },
  {
   "cell_type": "code",
   "execution_count": 2,
   "metadata": {},
   "outputs": [],
   "source": [
    "v_in_min = 3.2 #min input voltage (V)\n",
    "v_in_max = 3.4 #max input voltage (V)\n",
    "v_out = 12 #nominal output voltage (V)\n",
    "i_max = 2 #max output current (A)\n",
    "\n",
    "#sweep parameters\n",
    "efficiency_min = 0.75\n",
    "efficinecy_max = 0.99\n",
    "\n",
    "#arrays\n",
    "v_in_arr = np.linspace(v_in_min, v_in_max, 1000)"
   ]
  },
  {
   "cell_type": "markdown",
   "metadata": {},
   "source": [
    "# Calculating max switch current\n",
    "## Calculating duty cycle\n",
    "\n",
    "$D = 1 - {{V_{in (min)} * efficiency} \\over V_{out}}$"
   ]
  },
  {
   "cell_type": "code",
   "execution_count": 3,
   "metadata": {},
   "outputs": [
    {
     "data": {
      "image/png": "[encoded data removed]",
      "text/plain": [
       "<Figure size 640x480 with 1 Axes>"
      ]
     },
     "metadata": {},
     "output_type": "display_data"
    }
   ],
   "source": [
    "efficiency_arr = np.linspace(efficiency_min, efficinecy_max, 1000) #efficiency\n",
    "duty_cycle_arr = 1 - ( (v_in_min * efficiency_arr) / (v_out) )\n",
    "plt.plot(efficiency_arr*1e2, duty_cycle_arr*1e2)\n",
    "plt.xlabel(\"Efficiency (%)\")\n",
    "plt.ylabel(\"Duty Cycle (%)\")\n",
    "plt.grid()"
   ]
  },
  {
   "cell_type": "markdown",
   "metadata": {},
   "source": [
    "## Calculating inductor ripple current (optional)\n",
    "\n",
    "$L = {{V_{in} * (V_{out} - V_{in})} \\over {\\Delta I_L * f_s * V_{out}}}$\n",
    "\n",
    "### Here\n",
    "$\\Delta I_L$ is inductor ripple current. A good estimation for the inductor ripple current is 20% to 40% of the output current. Or whatever you want\n",
    "\n",
    "$f_s$ is the switching frequency"
   ]
  },
  {
   "cell_type": "code",
   "execution_count": 4,
   "metadata": {},
   "outputs": [],
   "source": [
    "# I_l_arr = np.linspace(0.2, 0.4, 1000) * i_max * (v_out / v_in_min) #assumed nominal ripple current array, between 20% to 40% of max current\n",
    "I_l_arr = np.linspace(0.1, 0.2, 1000)  #assumed nominal ripple current array, between 10mA to 200mA\n",
    "I_l = 47e-6 #inductor value\n",
    "f_s = 500e3 #switching frequency\n",
    "def draw_L_vs_ripple(f):\n",
    "    l_val_arr = (v_in_arr * (v_out - v_in_arr)) / (I_l_arr * f * v_out)\n",
    "    plt.plot(I_l_arr, l_val_arr * 1e6)\n",
    "    plt.xlabel(\"Ripple Current (A)\")\n",
    "    plt.ylabel(\"Inductor Val (uH)\")\n",
    "    plt.grid()\n",
    "interact(draw_L_vs_ripple, f=FloatSlider(value=1e3, min=1e3, max=1e6))"
   ]
  },
  {
   "cell_type": "markdown",
   "metadata": {},
   "source": [
    "## Get the $f_s$ and $\\Delta I_L$ experimentally\n",
    "\n",
    "$\\Delta I_L = {{V_{in(min)} * D} \\over {f_s * L}}$"
   ]
  },
  {
   "cell_type": "code",
   "execution_count": null,
   "metadata": {},
   "outputs": [
    {
     "data": {
      "application/vnd.jupyter.widget-view+json": {
       "model_id": "540eb6754a194839bc759619b30af908",
       "version_major": 2,
       "version_minor": 0
      },
      "text/plain": [
       "interactive(children=(FloatSlider(value=1000.0, description='f', max=1000000.0, min=1000.0), FloatSlider(value…"
      ]
     },
     "metadata": {},
     "output_type": "display_data"
    },
    {
     "data": {
      "text/plain": [
       "<function __main__.wew(f, l)>"
      ]
     },
     "execution_count": 8,
     "metadata": {},
     "output_type": "execute_result"
    }
   ],
   "source": [
    "def wew(f, l):\n",
    "    print(round((v_in_min * 0.74) / (f*l * 1e-6), 3))\n",
    "interact(wew, f=FloatSlider(value=1e3, min=1e3, max=1e6), l=FloatSlider(value=1, min=1, max=1e3))"
   ]
  },
  {
   "cell_type": "markdown",
   "metadata": {},
   "source": [
    "## Calculating max switch current ($I_{SW(max)}$)\n",
    "\n",
    "$I_{SW(max)} = {{\\Delta I_L} \\over {2}} + {{I_{OUT(max)}} \\over {1 - D}}$"
   ]
  },
  {
   "cell_type": "code",
   "execution_count": null,
   "metadata": {},
   "outputs": [
    {
     "name": "stdout",
     "output_type": "stream",
     "text": [
      "6.159 A\n"
     ]
    }
   ],
   "source": [
    "i_sw_max = (10e-3 / 2) + ((1.6) / (1-0.74))\n",
    "print(f'{round(i_sw_max,3)} A')"
   ]
  },
  {
   "cell_type": "markdown",
   "metadata": {},
   "source": [
    "## Output capacitor selection\n",
    "\n",
    "$C_{out(min)} = { {I_{out(max)} * D} \\over {f_s * \\Delta V_{out}} }$"
   ]
  },
  {
   "cell_type": "code",
   "execution_count": null,
   "metadata": {},
   "outputs": [
    {
     "name": "stdout",
     "output_type": "stream",
     "text": [
      "2.96e-05\n"
     ]
    }
   ],
   "source": [
    "c_out_min = (i_max * 0.74) / (f_s * 0.1)\n",
    "print(c_out_min)"
   ]
  },
  {
   "cell_type": "code",
   "execution_count": null,
   "metadata": {},
   "outputs": [],
   "source": []
  }
 ],
 "metadata": {
  "kernelspec": {
   "display_name": "Python 3",
   "language": "python",
   "name": "python3"
  },
  "language_info": {
   "codemirror_mode": {
    "name": "ipython",
    "version": 3
   },
   "file_extension": ".py",
   "mimetype": "text/x-python",
   "name": "python",
   "nbconvert_exporter": "python",
   "pygments_lexer": "ipython3",
   "version": "3.10.12"
  }
 },
 "nbformat": 4,
 "nbformat_minor": 2
}
